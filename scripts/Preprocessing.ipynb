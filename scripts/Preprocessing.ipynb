{
 "cells": [
  {
   "cell_type": "code",
   "execution_count": 1,
   "id": "4cab3160",
   "metadata": {},
   "outputs": [],
   "source": [
    "from conllu import parse\n",
    "from conllu.models import TokenList\n",
    "from scipy.stats import entropy\n",
    "import matplotlib.pyplot as plt\n",
    "import functools\n",
    "import tikzplotlib as tpl\n",
    "from scipy import stats\n",
    "import numpy as np\n",
    "import seaborn as sns\n",
    "import time \n",
    "import random\n",
    "from tqdm import tqdm\n",
    "\n",
    "try:\n",
    "    from collections.abc import Iterable\n",
    "except ImportError:\n",
    "    from collections import Iterable\n",
    "\n",
    "from loader import *"
   ]
  },
  {
   "cell_type": "code",
   "execution_count": 5,
   "id": "4c6064fb",
   "metadata": {},
   "outputs": [],
   "source": [
    "import pandas as pd"
   ]
  },
  {
   "cell_type": "code",
   "execution_count": 6,
   "id": "9ea48760",
   "metadata": {},
   "outputs": [],
   "source": [
    "import random as random"
   ]
  },
  {
   "cell_type": "code",
   "execution_count": 7,
   "id": "c76793ce",
   "metadata": {},
   "outputs": [],
   "source": [
    "paths = ['/home/echeng/morph_systems_entropy/wiki/fr_{}_wikipedia.conllu'.format(i) for i in range(10)] "
   ]
  },
  {
   "cell_type": "code",
   "execution_count": 8,
   "id": "30b722cb",
   "metadata": {},
   "outputs": [],
   "source": [
    "NOUNS = {'form': [], 'lemma': [], 'gender': [], 'number': []}"
   ]
  },
  {
   "cell_type": "code",
   "execution_count": 11,
   "id": "6b49ec67",
   "metadata": {},
   "outputs": [],
   "source": [
    "def extract_nouns(filepaths):\n",
    "    \n",
    "    for filepath in filepaths:\n",
    "        print('processing', filepath)\n",
    "        data_file = open(filepath, 'r', encoding='utf-8')\n",
    "\n",
    "        for sentence in tqdm(parse_incr(data_file)): \n",
    "            for noun in sentence.filter(upos='NOUN'):\n",
    "                if random.uniform(0, 1) > 0.01: continue\n",
    "                \n",
    "                # Stop conditions: we want all the fields to be valid and not none.\n",
    "                if 'form' not in noun: continue\n",
    "                if 'lemma' not in noun: continue\n",
    "                if 'feats' not in noun: continue\n",
    "                if noun['feats'] is None: continue\n",
    "                if 'Gender' not in noun['feats']: continue\n",
    "                if 'Number' not in noun['feats']: continue\n",
    "\n",
    "                if all([noun['form'], noun['lemma'], noun['feats']['Gender'], noun['feats']['Number']]):\n",
    "                    NOUNS['form'].append(noun['form'])\n",
    "                    NOUNS['lemma'].append(noun['lemma'])\n",
    "                    NOUNS['gender'].append(noun['feats']['Gender'])\n",
    "                    NOUNS['number'].append(noun['feats']['Number'])\n",
    "\n",
    "        data_file.close()"
   ]
  },
  {
   "cell_type": "code",
   "execution_count": null,
   "id": "2f0a38ad",
   "metadata": {},
   "outputs": [
    {
     "name": "stdout",
     "output_type": "stream",
     "text": [
      "processing /home/echeng/morph_systems_entropy/wiki/fr_0_wikipedia.conllu\n"
     ]
    },
    {
     "name": "stderr",
     "output_type": "stream",
     "text": [
      "4088870it [26:40, 2499.04it/s]"
     ]
    }
   ],
   "source": [
    "extract_nouns(paths)"
   ]
  },
  {
   "cell_type": "code",
   "execution_count": 82,
   "id": "81287e55",
   "metadata": {},
   "outputs": [],
   "source": [
    "nouns = pd.DataFrame(NOUNS)"
   ]
  },
  {
   "cell_type": "code",
   "execution_count": 87,
   "id": "02de5f70",
   "metadata": {},
   "outputs": [
    {
     "data": {
      "text/html": [
       "<div>\n",
       "<style scoped>\n",
       "    .dataframe tbody tr th:only-of-type {\n",
       "        vertical-align: middle;\n",
       "    }\n",
       "\n",
       "    .dataframe tbody tr th {\n",
       "        vertical-align: top;\n",
       "    }\n",
       "\n",
       "    .dataframe thead th {\n",
       "        text-align: right;\n",
       "    }\n",
       "</style>\n",
       "<table border=\"1\" class=\"dataframe\">\n",
       "  <thead>\n",
       "    <tr style=\"text-align: right;\">\n",
       "      <th></th>\n",
       "      <th>form</th>\n",
       "      <th>lemma</th>\n",
       "      <th>gender</th>\n",
       "      <th>number</th>\n",
       "    </tr>\n",
       "  </thead>\n",
       "  <tbody>\n",
       "    <tr>\n",
       "      <th>0</th>\n",
       "      <td>linguiste</td>\n",
       "      <td>linguiste</td>\n",
       "      <td>Masc</td>\n",
       "      <td>Sing</td>\n",
       "    </tr>\n",
       "    <tr>\n",
       "      <th>1</th>\n",
       "      <td>décennies</td>\n",
       "      <td>décennie</td>\n",
       "      <td>Fem</td>\n",
       "      <td>Plur</td>\n",
       "    </tr>\n",
       "    <tr>\n",
       "      <th>2</th>\n",
       "      <td>philologue</td>\n",
       "      <td>philologue</td>\n",
       "      <td>Masc</td>\n",
       "      <td>Sing</td>\n",
       "    </tr>\n",
       "    <tr>\n",
       "      <th>3</th>\n",
       "      <td>Biographie</td>\n",
       "      <td>biographie</td>\n",
       "      <td>Fem</td>\n",
       "      <td>Sing</td>\n",
       "    </tr>\n",
       "    <tr>\n",
       "      <th>4</th>\n",
       "      <td>origine</td>\n",
       "      <td>origine</td>\n",
       "      <td>Fem</td>\n",
       "      <td>Sing</td>\n",
       "    </tr>\n",
       "    <tr>\n",
       "      <th>...</th>\n",
       "      <td>...</td>\n",
       "      <td>...</td>\n",
       "      <td>...</td>\n",
       "      <td>...</td>\n",
       "    </tr>\n",
       "    <tr>\n",
       "      <th>842835</th>\n",
       "      <td>communauté</td>\n",
       "      <td>communauté</td>\n",
       "      <td>Fem</td>\n",
       "      <td>Sing</td>\n",
       "    </tr>\n",
       "    <tr>\n",
       "      <th>842836</th>\n",
       "      <td>agglomération</td>\n",
       "      <td>agglomération</td>\n",
       "      <td>Fem</td>\n",
       "      <td>Sing</td>\n",
       "    </tr>\n",
       "    <tr>\n",
       "      <th>842837</th>\n",
       "      <td>nouvelle</td>\n",
       "      <td>nouvelle</td>\n",
       "      <td>Fem</td>\n",
       "      <td>Sing</td>\n",
       "    </tr>\n",
       "    <tr>\n",
       "      <th>842838</th>\n",
       "      <td>Unité</td>\n",
       "      <td>unité</td>\n",
       "      <td>Fem</td>\n",
       "      <td>Sing</td>\n",
       "    </tr>\n",
       "    <tr>\n",
       "      <th>842839</th>\n",
       "      <td>attraction</td>\n",
       "      <td>attraction</td>\n",
       "      <td>Fem</td>\n",
       "      <td>Sing</td>\n",
       "    </tr>\n",
       "  </tbody>\n",
       "</table>\n",
       "<p>842840 rows × 4 columns</p>\n",
       "</div>"
      ],
      "text/plain": [
       "                 form          lemma gender number\n",
       "0           linguiste      linguiste   Masc   Sing\n",
       "1           décennies       décennie    Fem   Plur\n",
       "2          philologue     philologue   Masc   Sing\n",
       "3          Biographie     biographie    Fem   Sing\n",
       "4             origine        origine    Fem   Sing\n",
       "...               ...            ...    ...    ...\n",
       "842835     communauté     communauté    Fem   Sing\n",
       "842836  agglomération  agglomération    Fem   Sing\n",
       "842837       nouvelle       nouvelle    Fem   Sing\n",
       "842838          Unité          unité    Fem   Sing\n",
       "842839     attraction     attraction    Fem   Sing\n",
       "\n",
       "[842840 rows x 4 columns]"
      ]
     },
     "execution_count": 87,
     "metadata": {},
     "output_type": "execute_result"
    }
   ],
   "source": [
    "nouns"
   ]
  },
  {
   "cell_type": "code",
   "execution_count": null,
   "id": "5753bdca",
   "metadata": {},
   "outputs": [],
   "source": []
  }
 ],
 "metadata": {
  "kernelspec": {
   "display_name": "Python 3 (ipykernel)",
   "language": "python",
   "name": "python3"
  },
  "language_info": {
   "codemirror_mode": {
    "name": "ipython",
    "version": 3
   },
   "file_extension": ".py",
   "mimetype": "text/x-python",
   "name": "python",
   "nbconvert_exporter": "python",
   "pygments_lexer": "ipython3",
   "version": "3.11.5"
  }
 },
 "nbformat": 4,
 "nbformat_minor": 5
}
